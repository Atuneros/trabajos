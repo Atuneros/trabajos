{
 "cells": [
  {
   "cell_type": "markdown",
   "metadata": {},
   "source": [
    "# Actividad de visualización en R  \n",
    "\n",
    "- Datos de covid en España -> buscando patrones"
   ]
  },
  {
   "cell_type": "markdown",
   "metadata": {},
   "source": [
    "## Datos de covid por provincias\n",
    "\n",
    "fuente: https://cnecovid.isciii.es/covid19/resources/casos_hosp_uci_def_sexo_edad_provres.csv\n",
    "\n",
    "Descripción de los metadatos https://cnecovid.isciii.es/covid19/resources/metadata_diag_ccaa_decl_prov_edad_sexo.pdf\n",
    "  \n",
    "Datos:\n",
    "  \n",
    "- Provincia_iso (1 o dos letras)\n",
    "- Sexo (H/M)\n",
    "- grupo edad (de 10 en 10 años)\n",
    "- Fecha (yyyy-mm-dd)\n",
    "- num_casos \n",
    "- num_hosp \n",
    "- num_uci \n",
    "- nun_def\n",
    "\n",
    "Datos para las gráficas: \n",
    "\n",
    "- Fechas de las olas\n",
    "```\n",
    "     olas <- c(\"2020-04-01\",\"2020-08-02\",\"2020-12-01\",\"2021-04-01\",\"2021-07-01\",\"2021-12-01\")\n",
    "     olas <- as.Date(olas)\n",
    "     olas <- as.POSIXct(olas)\n",
    "     olas_name <- c(\"1ª ola\",\"2ª ola\",\"3ª ola\",\"4ª ola\",\"5ª ola\",\"6ª ola\")\n",
    "```\n",
    "Datos para visualización\n",
    "\n",
    "- Abreviaturas de nombres de provincia y nombres largos https://raw.githubusercontent.com/montera34/escovid19data/master/data/original/abreviaturas_provincias.csv\n",
    "- Datos de población por provincia url_provincias_poblacion  https://raw.githubusercontent.com/montera34/escovid19data/master/data/original/provincias-poblacion.csv"
   ]
  },
  {
   "cell_type": "code",
   "execution_count": 2,
   "metadata": {
    "vscode": {
     "languageId": "r"
    }
   },
   "outputs": [
    {
     "name": "stderr",
     "output_type": "stream",
     "text": [
      "-- \u001b[1mAttaching packages\u001b[22m --------------------------------------- tidyverse 1.3.1 --\n",
      "\n",
      "\u001b[32mv\u001b[39m \u001b[34mggplot2\u001b[39m 3.3.3     \u001b[32mv\u001b[39m \u001b[34mpurrr  \u001b[39m 0.3.4\n",
      "\u001b[32mv\u001b[39m \u001b[34mtibble \u001b[39m 3.1.0     \u001b[32mv\u001b[39m \u001b[34mdplyr  \u001b[39m 1.0.5\n",
      "\u001b[32mv\u001b[39m \u001b[34mtidyr  \u001b[39m 1.1.4     \u001b[32mv\u001b[39m \u001b[34mstringr\u001b[39m 1.4.0\n",
      "\u001b[32mv\u001b[39m \u001b[34mreadr  \u001b[39m 2.1.2     \u001b[32mv\u001b[39m \u001b[34mforcats\u001b[39m 0.5.1\n",
      "\n",
      "-- \u001b[1mConflicts\u001b[22m ------------------------------------------ tidyverse_conflicts() --\n",
      "\u001b[31mx\u001b[39m \u001b[34mdplyr\u001b[39m::\u001b[32mfilter()\u001b[39m masks \u001b[34mstats\u001b[39m::filter()\n",
      "\u001b[31mx\u001b[39m \u001b[34mdplyr\u001b[39m::\u001b[32mlag()\u001b[39m    masks \u001b[34mstats\u001b[39m::lag()\n",
      "\n",
      "\n",
      "Attaching package: 'lubridate'\n",
      "\n",
      "\n",
      "The following objects are masked from 'package:base':\n",
      "\n",
      "    date, intersect, setdiff, union\n",
      "\n",
      "\n",
      "\n",
      "Attaching package: 'scales'\n",
      "\n",
      "\n",
      "The following object is masked from 'package:purrr':\n",
      "\n",
      "    discard\n",
      "\n",
      "\n",
      "The following object is masked from 'package:readr':\n",
      "\n",
      "    col_factor\n",
      "\n",
      "\n",
      "Loading required package: viridisLite\n",
      "\n",
      "\n",
      "Attaching package: 'viridis'\n",
      "\n",
      "\n",
      "The following object is masked from 'package:scales':\n",
      "\n",
      "    viridis_pal\n",
      "\n",
      "\n",
      "Linking to GEOS 3.9.1, GDAL 3.2.1, PROJ 7.2.1; sf_use_s2() is TRUE\n",
      "\n",
      "This project is in maintenance mode. \n",
      "Core functionalities of `cartography` can be found in `mapsf`.\n",
      "https://riatelab.github.io/mapsf/\n",
      "\n",
      "\n",
      "Attaching package: 'zoo'\n",
      "\n",
      "\n",
      "The following objects are masked from 'package:base':\n",
      "\n",
      "    as.Date, as.Date.numeric\n",
      "\n",
      "\n"
     ]
    }
   ],
   "source": [
    "if (!\"ggrepel\" %in% installed.packages()) {install.packages(\"ggrepel\")}         # Para resaltar líneas\n",
    "if (!\"gghighlight\" %in% installed.packages()) {install.packages(\"gghighlight\")} # Para resaltar líneas\n",
    "if (!\"viridis\" %in% installed.packages()) {install.packages('viridis')}         # Paleta colores\n",
    "if (!\"ggthemes\" %in% installed.packages()) {install.packages('ggthemes')}       # Temas\n",
    "if (!\"mapSpain\" %in% installed.packages()) {install.packages('mapSpain')}       # Mapas de España\n",
    "if (!\"tmap\" %in% installed.packages()) {install.packages('tmap') }              # Dibujar mapas\n",
    "if (!\"cartography\" %in% installed.packages()) {install.packages('cartography')} # Dibujar mapas\n",
    "if (!\"zoo\" %in% installed.packages()) {install.packages('zoo')}                 # Dibujar mapas\n",
    "\n",
    "library(tidyverse)\n",
    "library(lubridate)   # Manejo de fechas\n",
    "library(scales)      # Fomatar fechas\n",
    "library(ggrepel)     # textos alineados\n",
    "library(gghighlight) # Para resaltar líneas\n",
    "library(viridis)     # Paleta colores\n",
    "library(ggthemes)    # Temas\n",
    "library(mapSpain)    # Mapas de España\n",
    "library(sf)          # Manejo objetos sf\n",
    "library(tmap)        # Dibujar mapas\n",
    "library(cartography) # Dibujar mapas\n",
    "library(zoo)         #calculo de media en una ventana de tiempo"
   ]
  },
  {
   "cell_type": "markdown",
   "metadata": {},
   "source": [
    "### Plantilla de gráficas "
   ]
  },
  {
   "cell_type": "code",
   "execution_count": 106,
   "metadata": {
    "vscode": {
     "languageId": "r"
    }
   },
   "outputs": [],
   "source": [
    "theme_a <- function(base_size = 10,\n",
    "                    base_family = \"sans\"\n",
    "                           )\n",
    "    {\n",
    " \n",
    "    tema <-\n",
    "        theme_bw(base_size=base_size) +\n",
    "          \n",
    "        theme(legend.position=\"right\") +\n",
    "        theme(legend.text = element_text(size=base_size+1,family = base_family)) +\n",
    "        theme(plot.title=element_text(size=base_size+3, \n",
    "                                      face = \"bold\",\n",
    "                                      vjust=1.25, \n",
    "                                      family=base_family, \n",
    "                                      hjust = 0.5\n",
    "                                      )) +\n",
    "        \n",
    "        theme(plot.subtitle=element_text(size=base_size+2, family = base_family,  hjust = 0.5))  +\n",
    "        theme(text = element_text(size=base_size+2,family = base_family)) +\n",
    "        theme(axis.text.x=element_text(size=base_size+1,family = base_family)) +\n",
    "        theme(axis.text.y=element_text(size=base_size+1, family = base_family)) +\n",
    "          \n",
    "        theme(axis.title.x=element_text(size=base_size+2, vjust=0, family = base_family)) +\n",
    "        theme(axis.title.y=element_text(size=base_size+2, vjust=1.25, family = base_family)) +\n",
    "        theme(plot.caption=element_text(size=base_size, family = base_family)) +\n",
    "        theme(strip.text = element_text(size=base_size, family = base_family)) +\n",
    "        theme(strip.text.x = element_text(size=base_size, family = base_family)) +\n",
    "        theme(strip.text.y = element_text(size=base_size, family = base_family)) +\n",
    "        theme(plot.caption = element_text(hjust = 1))+\n",
    "        theme(panel.grid.major = element_blank(),\n",
    "              panel.grid.minor = element_blank())\n",
    " \n",
    "    return (tema)\n",
    "}"
   ]
  },
  {
   "cell_type": "markdown",
   "metadata": {},
   "source": [
    "### Lectura de datos"
   ]
  },
  {
   "cell_type": "code",
   "execution_count": 21,
   "metadata": {
    "vscode": {
     "languageId": "r"
    }
   },
   "outputs": [
    {
     "data": {
      "text/plain": [
       "<locale>\n",
       "Numbers:  123.456,78\n",
       "Formats:  %AD / %AT\n",
       "Timezone: UTC\n",
       "Encoding: UTF-8\n",
       "<date_names>\n",
       "Days:   domingo (dom.), lunes (lun.), martes (mar.), miércoles (mié.), jueves\n",
       "        (jue.), viernes (vie.), sábado (sáb.)\n",
       "Months: enero (ene.), febrero (feb.), marzo (mar.), abril (abr.), mayo (may.),\n",
       "        junio (jun.), julio (jul.), agosto (ago.), septiembre (sept.),\n",
       "        octubre (oct.), noviembre (nov.), diciembre (dic.)\n",
       "AM/PM:  a. m./p. m."
      ]
     },
     "metadata": {},
     "output_type": "display_data"
    },
    {
     "name": "stderr",
     "output_type": "stream",
     "text": [
      "\u001b[1mRows: \u001b[22m\u001b[34m1302210\u001b[39m \u001b[1mColumns: \u001b[22m\u001b[34m8\u001b[39m\n",
      "\n",
      "\u001b[36m--\u001b[39m \u001b[1mColumn specification\u001b[22m \u001b[36m--------------------------------------------------------\u001b[39m\n",
      "\u001b[1mDelimiter:\u001b[22m \",\"\n",
      "\u001b[31mchr\u001b[39m  (3): provincia_iso, sexo, grupo_edad\n",
      "\u001b[32mdbl\u001b[39m  (4): num_casos, num_hosp, num_uci, num_def\n",
      "\u001b[34mdate\u001b[39m (1): fecha\n",
      "\n",
      "\n",
      "\u001b[36mi\u001b[39m Use `spec()` to retrieve the full column specification for this data.\n",
      "\u001b[36mi\u001b[39m Specify the column types or set `show_col_types = FALSE` to quiet this message.\n",
      "\n"
     ]
    },
    {
     "name": "stdout",
     "output_type": "stream",
     "text": [
      "\u001b[90m# A tibble: 1,302,210 x 8\u001b[39m\n",
      "   provincia_iso sexo  grupo_edad fecha      num_casos num_hosp num_uci num_def\n",
      "   \u001b[3m\u001b[90m<chr>\u001b[39m\u001b[23m         \u001b[3m\u001b[90m<chr>\u001b[39m\u001b[23m \u001b[3m\u001b[90m<chr>\u001b[39m\u001b[23m      \u001b[3m\u001b[90m<date>\u001b[39m\u001b[23m         \u001b[3m\u001b[90m<dbl>\u001b[39m\u001b[23m    \u001b[3m\u001b[90m<dbl>\u001b[39m\u001b[23m   \u001b[3m\u001b[90m<dbl>\u001b[39m\u001b[23m   \u001b[3m\u001b[90m<dbl>\u001b[39m\u001b[23m\n",
      "\u001b[90m 1\u001b[39m A             H     0-9        2020-01-01         0        0       0       0\n",
      "\u001b[90m 2\u001b[39m A             H     10-19      2020-01-01         0        0       0       0\n",
      "\u001b[90m 3\u001b[39m A             H     20-29      2020-01-01         0        0       0       0\n",
      "\u001b[90m 4\u001b[39m A             H     30-39      2020-01-01         0        0       0       0\n",
      "\u001b[90m 5\u001b[39m A             H     40-49      2020-01-01         0        0       0       0\n",
      "\u001b[90m 6\u001b[39m A             H     50-59      2020-01-01         0        0       0       0\n",
      "\u001b[90m 7\u001b[39m A             H     60-69      2020-01-01         0        0       0       0\n",
      "\u001b[90m 8\u001b[39m A             H     70-79      2020-01-01         0        0       0       0\n",
      "\u001b[90m 9\u001b[39m A             H     80+        2020-01-01         0        0       0       0\n",
      "\u001b[90m10\u001b[39m A             H     NC         2020-01-01         0        0       0       0\n",
      "\u001b[90m# ... with 1,302,200 more rows\u001b[39m\n"
     ]
    }
   ],
   "source": [
    "locale(date_names = \"es\", date_format = \"%AD\", time_format = \"%AT\",\n",
    "  decimal_mark = \",\", grouping_mark = \".\", tz = \"UTC\",\n",
    "  encoding = \"UTF-8\", asciify = FALSE)\n",
    "\n",
    "url_covid_isciii <- \"https://cnecovid.isciii.es/covid19/resources/casos_hosp_uci_def_sexo_edad_provres.csv\" \n",
    "covid_isciii <- read_csv (url_covid_isciii) %>%\n",
    "                mutate (provincia_iso = \n",
    "                       ifelse (is.na (provincia_iso), \"NV\", provincia_iso)) # por el problena de que NA (de Navarra) lo considera valor vacío\n",
    "  \n",
    "\n",
    "print (covid_isciii)"
   ]
  },
  {
   "cell_type": "markdown",
   "metadata": {},
   "source": [
    "### Preparar datos para la visualización"
   ]
  },
  {
   "cell_type": "markdown",
   "metadata": {},
   "source": [
    "#### Añadir los nombres largos de provincias para mayor claridad\n",
    "\n",
    "  Recursos en https://raw.githubusercontent.com/montera34/escovid19data/master/data/original/abreviaturas_provincias.csv"
   ]
  },
  {
   "cell_type": "code",
   "execution_count": 22,
   "metadata": {
    "vscode": {
     "languageId": "r"
    }
   },
   "outputs": [
    {
     "name": "stderr",
     "output_type": "stream",
     "text": [
      "\u001b[1mRows: \u001b[22m\u001b[34m52\u001b[39m \u001b[1mColumns: \u001b[22m\u001b[34m3\u001b[39m\n",
      "\n",
      "\u001b[36m--\u001b[39m \u001b[1mColumn specification\u001b[22m \u001b[36m--------------------------------------------------------\u001b[39m\n",
      "\u001b[1mDelimiter:\u001b[22m \",\"\n",
      "\u001b[31mchr\u001b[39m (3): codigo, provincia, abreviatura\n",
      "\n",
      "\n",
      "\u001b[36mi\u001b[39m Use `spec()` to retrieve the full column specification for this data.\n",
      "\u001b[36mi\u001b[39m Specify the column types or set `show_col_types = FALSE` to quiet this message.\n",
      "\n"
     ]
    },
    {
     "name": "stdout",
     "output_type": "stream",
     "text": [
      "\u001b[90m# A tibble: 52 x 3\u001b[39m\n",
      "   codigo provincia        abreviatura\n",
      "   \u001b[3m\u001b[90m<chr>\u001b[39m\u001b[23m  \u001b[3m\u001b[90m<chr>\u001b[39m\u001b[23m            \u001b[3m\u001b[90m<chr>\u001b[39m\u001b[23m      \n",
      "\u001b[90m 1\u001b[39m 01     Araba/Álava      VI         \n",
      "\u001b[90m 2\u001b[39m 02     Albacete         AB         \n",
      "\u001b[90m 3\u001b[39m 03     Alicante/Alacant A          \n",
      "\u001b[90m 4\u001b[39m 04     Almería          AL         \n",
      "\u001b[90m 5\u001b[39m 05     Ávila            AV         \n",
      "\u001b[90m 6\u001b[39m 06     Badajoz          BA         \n",
      "\u001b[90m 7\u001b[39m 07     Balears, Illes   PM         \n",
      "\u001b[90m 8\u001b[39m 08     Barcelona        B          \n",
      "\u001b[90m 9\u001b[39m 09     Burgos           BU         \n",
      "\u001b[90m10\u001b[39m 10     Cáceres          CC         \n",
      "\u001b[90m# ... with 42 more rows\u001b[39m\n"
     ]
    }
   ],
   "source": [
    "# recurso de traducción de nombre corto de provincia a largo formato INE\n",
    "\n",
    "url_provincias_abreviatura <- \"https://raw.githubusercontent.com/montera34/escovid19data/master/data/original/abreviaturas_provincias.csv\"\n",
    "\n",
    "provincias_abreviatura <- read_csv( url_provincias_abreviatura)\n",
    "print (provincias_abreviatura)"
   ]
  },
  {
   "cell_type": "code",
   "execution_count": 23,
   "metadata": {
    "vscode": {
     "languageId": "r"
    }
   },
   "outputs": [
    {
     "name": "stdout",
     "output_type": "stream",
     "text": [
      "\u001b[90m# A tibble: 1,302,210 x 10\u001b[39m\n",
      "   provincia_iso sexo  grupo_edad fecha      num_casos num_hosp num_uci num_def\n",
      "   \u001b[3m\u001b[90m<chr>\u001b[39m\u001b[23m         \u001b[3m\u001b[90m<chr>\u001b[39m\u001b[23m \u001b[3m\u001b[90m<chr>\u001b[39m\u001b[23m      \u001b[3m\u001b[90m<date>\u001b[39m\u001b[23m         \u001b[3m\u001b[90m<dbl>\u001b[39m\u001b[23m    \u001b[3m\u001b[90m<dbl>\u001b[39m\u001b[23m   \u001b[3m\u001b[90m<dbl>\u001b[39m\u001b[23m   \u001b[3m\u001b[90m<dbl>\u001b[39m\u001b[23m\n",
      "\u001b[90m 1\u001b[39m A             H     0-9        2020-01-01         0        0       0       0\n",
      "\u001b[90m 2\u001b[39m A             H     10-19      2020-01-01         0        0       0       0\n",
      "\u001b[90m 3\u001b[39m A             H     20-29      2020-01-01         0        0       0       0\n",
      "\u001b[90m 4\u001b[39m A             H     30-39      2020-01-01         0        0       0       0\n",
      "\u001b[90m 5\u001b[39m A             H     40-49      2020-01-01         0        0       0       0\n",
      "\u001b[90m 6\u001b[39m A             H     50-59      2020-01-01         0        0       0       0\n",
      "\u001b[90m 7\u001b[39m A             H     60-69      2020-01-01         0        0       0       0\n",
      "\u001b[90m 8\u001b[39m A             H     70-79      2020-01-01         0        0       0       0\n",
      "\u001b[90m 9\u001b[39m A             H     80+        2020-01-01         0        0       0       0\n",
      "\u001b[90m10\u001b[39m A             H     NC         2020-01-01         0        0       0       0\n",
      "\u001b[90m# ... with 1,302,200 more rows, and 2 more variables: codigo <chr>,\u001b[39m\n",
      "\u001b[90m#   provincia <chr>\u001b[39m\n"
     ]
    }
   ],
   "source": [
    "# Traducción del nombre corto por el largo formato INE\n",
    "\n",
    "# recurso de traducción de nombre corto de provincia a largo formato INE\n",
    "\n",
    "covid_provincias <- left_join (covid_isciii, provincias_abreviatura, by = c(\"provincia_iso\" =  \"abreviatura\")) \n",
    "\n",
    "print (covid_provincias)\n"
   ]
  },
  {
   "cell_type": "markdown",
   "metadata": {},
   "source": [
    "#### Añadir población"
   ]
  },
  {
   "cell_type": "code",
   "execution_count": null,
   "metadata": {
    "vscode": {
     "languageId": "r"
    }
   },
   "outputs": [],
   "source": [
    "# recurso de población por provincia\n",
    " \n",
    "\n",
    "url_provincias_poblacion <- \"https://raw.githubusercontent.com/montera34/escovid19data/master/data/original/provincias-poblacion.csv\"\n",
    "\n",
    "provincias_poblacion <- read_csv( url_provincias_poblacion)\n",
    "print (provincias_poblacion)\n",
    "\n",
    "```\n",
    "```{r}\n",
    "\n",
    "\n",
    "covid_provincias_poblacion <- left_join (covid_provincias, provincias_poblacion, by = \"provincia\") \n",
    "\n",
    "print (covid_provincias_poblacion)"
   ]
  },
  {
   "cell_type": "markdown",
   "metadata": {},
   "source": [
    "#### Limpiando datos"
   ]
  },
  {
   "cell_type": "code",
   "execution_count": null,
   "metadata": {
    "vscode": {
     "languageId": "r"
    }
   },
   "outputs": [],
   "source": [
    "# Filtramos los últimos cuatro días por no ser datos consolidados\n",
    "# Quitamos datos nulos\n",
    "\n",
    "\n",
    "covid_provincias_poblacion <- covid_provincias_poblacion %>%\n",
    "                    filter (fecha < max(fecha) - 4 )  %>%  #quitamos los 4 últimos días por no estar consolidados\n",
    "                    filter (grupo_edad != \"NC\") %>%\n",
    "                    filter (sexo != \"NC\") %>%\n",
    "                    filter (provincia_iso != \"NC\") #quitamos valores nulos\n",
    "\n",
    "orden_edad <- c(\"0-9\",\"10-19\",\"20-29\",\"30-39\",\"40-49\",\"50-59\",\"60-69\",\"70-79\",\"80+\")\n",
    "covid_provincias$grupo_edad  <-  fct_rev (factor (covid_provincias$grupo_edad, orden_edad))\n",
    "\n",
    "print (covid_provincias_poblacion)"
   ]
  },
  {
   "cell_type": "markdown",
   "metadata": {},
   "source": [
    "#### Fechas varias"
   ]
  },
  {
   "cell_type": "code",
   "execution_count": 30,
   "metadata": {
    "vscode": {
     "languageId": "r"
    }
   },
   "outputs": [],
   "source": [
    "olas <- c(\"2020-03-11\",\"2020-08-02\",\"2020-12-01\",\"2021-04-01\",\"2021-07-01\",\"2021-12-01\")\n",
    "olas <- as.Date(olas)\n",
    "olas_name <- c(\"1ª ola\",\"2ª ola\",\"3ª ola\",\"4ª ola\",\"5ª ola\",\"6ª ola\")\n",
    "\n",
    "min_fecha = min (covid_provincias_poblacion$fecha)\n",
    "max_fecha = max (covid_provincias_poblacion$fecha)\n",
    "\n",
    "fechas_visibles <- (seq (min_fecha,max_fecha, by = \"3 months\") )"
   ]
  },
  {
   "cell_type": "markdown",
   "metadata": {},
   "source": [
    "### Evolución de los hospitalizaciones de covid por edad\n",
    "\n",
    "Generar tres vistas diferentes de line chart con la evolución del covid por edad mostrando las distintas olas\n",
    "\n",
    "\n",
    "- Elegir un formato de fecha adecuado\n",
    "- Señalar las olas\n",
    "\n",
    "ayuda para pintar líneas divisorias por olas\n",
    "  geom_vline(xintercept = as.Date(olas), linetype=\"dashed\", \n",
    "                color = \"grey\", size=1) +\n",
    "                \n",
    "El texto de la ola corre de vuestra cuenta. Se puede usar geom_text, geom_text_repel o annotate "
   ]
  },
  {
   "cell_type": "code",
   "execution_count": 34,
   "metadata": {
    "vscode": {
     "languageId": "r"
    }
   },
   "outputs": [],
   "source": [
    "# Ayuda de datos\n",
    "\n",
    "df <- covid_provincias_poblacion  %>%\n",
    "      group_by(fecha,grupo_edad) %>%\n",
    "      summarise(total = sum (num_hosp), # agregamos por provincia y sexo\n",
    "                .groups =\"drop\") %>% \n",
    "      ungroup ()"
   ]
  },
  {
   "cell_type": "markdown",
   "metadata": {},
   "source": [
    "#### Visualización 1"
   ]
  },
  {
   "cell_type": "code",
   "execution_count": 150,
   "metadata": {
    "vscode": {
     "languageId": "r"
    }
   },
   "outputs": [
    {
     "data": {
      "image/png": "[encoded data removed]",
      "text/plain": [
       "plot without title"
      ]
     },
     "metadata": {
      "image/png": {
       "height": 420,
       "width": 600
      }
     },
     "output_type": "display_data"
    }
   ],
   "source": [
    "options(repr.plot.width = 10, repr.plot.height = 7)\n",
    "angle <- 90\n",
    "color <- \"#6797DD\"\n",
    "\n",
    "ggplot(df, aes(x = fecha, y = total, color = grupo_edad)) +\n",
    "  geom_step(size = 0.5) +\n",
    "  geom_vline(xintercept = as.Date(olas), linetype = \"dashed\",\n",
    "             color = \"grey\", size = 1) +\n",
    "  geom_text(aes(x = olas[1]-15, label = olas[1], y=max(total)-100), colour=color, angle=angle) +\n",
    "  geom_text(aes(x = olas[2]-15, label = olas[2], y=max(total)-100), colour=color, angle=angle) +\n",
    "  geom_text(aes(x = olas[3]-15, label = olas[3], y=max(total)-100), colour=color, angle=angle) +\n",
    "  geom_text(aes(x = olas[4]-15, label = olas[4], y=max(total)-100), colour=color, angle=angle) +\n",
    "  geom_text(aes(x = olas[5]-15, label = olas[5], y=max(total)-100), colour=color, angle=angle) +\n",
    "  geom_text(aes(x = olas[6]-15, label = olas[6], y=max(total)-100), colour=color, angle=angle) +\n",
    "labs(y = \"Fallecidos\",\n",
    "       title = \"Evolución del covid por edad\",\n",
    "       caption = \"Joaquín\\nFuente: INE\",\n",
    "       color = \"Grupos edad\") +\n",
    "  theme_a() +\n",
    "  theme(legend.position = \"top\",\n",
    "        axis.title.x = element_blank())"
   ]
  },
  {
   "cell_type": "markdown",
   "metadata": {},
   "source": [
    "#### Visualización 2"
   ]
  },
  {
   "cell_type": "code",
   "execution_count": 210,
   "metadata": {
    "vscode": {
     "languageId": "r"
    }
   },
   "outputs": [
    {
     "data": {
      "image/png": "[encoded data removed]",
      "text/plain": [
       "plot without title"
      ]
     },
     "metadata": {
      "image/png": {
       "height": 540,
       "width": 840
      }
     },
     "output_type": "display_data"
    }
   ],
   "source": [
    "options(repr.plot.width=14, repr.plot.height=9)\n",
    "\n",
    "angle <- 90\n",
    "color <- \"#6797DD\"\n",
    "\n",
    "ggplot() +\n",
    "  geom_step(data = df, aes(x = fecha, y = total, color = grupo_edad)) +\n",
    "  geom_vline(xintercept = as.Date(olas), linetype = \"dashed\",\n",
    "             color = \"grey\", size = 1) +\n",
    "  scale_x_date (breaks = olas,\n",
    "                labels = date_format(\"%m-%Y\")) +  #Ajustamos las etiquetas del eje\n",
    "  labs(y = \"Fallecidos\",\n",
    "       title = \"Evolución del covid por edad\",\n",
    "       caption = \"Joaquín\\nFuente: INE\",\n",
    "       color = \"Grupos edad\") +\n",
    "  guides(color = \"none\") +\n",
    "  facet_wrap(~ grupo_edad) +\n",
    "  theme_a() +\n",
    "  theme(axis.title.x = element_blank(),\n",
    "        axis.text.x = element_text(angle = 45, hjust = 1))"
   ]
  },
  {
   "cell_type": "markdown",
   "metadata": {},
   "source": [
    "#### Visualización 3"
   ]
  },
  {
   "cell_type": "code",
   "execution_count": 242,
   "metadata": {
    "vscode": {
     "languageId": "r"
    }
   },
   "outputs": [
    {
     "data": {
      "image/png": "[encoded data removed]",
      "text/plain": [
       "plot without title"
      ]
     },
     "metadata": {
      "image/png": {
       "height": 420,
       "width": 600
      }
     },
     "output_type": "display_data"
    }
   ],
   "source": [
    "options(repr.plot.width = 10, repr.plot.height = 7)\n",
    "\n",
    "ggplot(data = df, aes(x = fecha, y = total, color=grupo_edad)) +\n",
    "  geom_line () +\n",
    "  gghighlight(max(total) > 1000,\n",
    "              label_key = grupo_edad,\n",
    "              label_params = c( size =5, vjust =1,nudge_x = 600,max.overlaps=10)) +\n",
    "  geom_vline(xintercept = as.Date(olas), linetype = \"dashed\",\n",
    "             color = \"grey\", size = 1) +\n",
    "  geom_text(aes(x = olas[1]-15, label = olas[1], y=max(total)-100), colour=color, angle=angle) +\n",
    "  geom_text(aes(x = olas[2]-15, label = olas[2], y=max(total)-100), colour=color, angle=angle) +\n",
    "  geom_text(aes(x = olas[3]-15, label = olas[3], y=max(total)-100), colour=color, angle=angle) +\n",
    "  geom_text(aes(x = olas[4]-15, label = olas[4], y=max(total)-100), colour=color, angle=angle) +\n",
    "  geom_text(aes(x = olas[5]-15, label = olas[5], y=max(total)-100), colour=color, angle=angle) +\n",
    "  geom_text(aes(x = olas[6]-15, label = olas[6], y=max(total)-100), colour=color, angle=angle) +\n",
    "  scale_x_date (limits= c(min_fecha, max_fecha+(100))) +  # Alargamos el eje x\n",
    "  labs(y = \"Fallecidos\",\n",
    "       title = \"Evolución del covid por edad\",\n",
    "       caption = \"Joaquín\\nFuente: INE\",\n",
    "       color = \"Grupos edad\") +\n",
    "  guides(color = \"none\") +\n",
    "  theme_a() +\n",
    "  theme(axis.title.x = element_blank())"
   ]
  },
  {
   "cell_type": "markdown",
   "metadata": {},
   "source": [
    "### Mapa de calor de hospitalizados por edad\n",
    "\n",
    "- Para que el ancho de la tabla sea razonable representamos los valores medios por semana\n",
    "- En el eje X aparecerá el tiempo y en el eje y los grupos de edad ordenados por edad\n",
    "- No pondremos textos porque son muy grandes los números y muy pequeñas las casillas\n",
    "- Espaciar y formatear la fecha para que se vea el año y el mes sin que quede apelmazado\n",
    "- Señalar verticalmente las olas y con su texto correspondiente"
   ]
  },
  {
   "cell_type": "code",
   "execution_count": 243,
   "metadata": {
    "vscode": {
     "languageId": "r"
    }
   },
   "outputs": [],
   "source": [
    "# Ayuda de datos\n",
    "\n",
    "df2 <- covid_provincias_poblacion  %>%\n",
    "      group_by(fecha,grupo_edad) %>%\n",
    "      summarise(total = sum (num_hosp), # agregamos por provincia y sexo\n",
    "                .groups =\"drop\") %>% \n",
    "      mutate (fecha_semana = round_date(fecha, \"1 weeks\")) %>%\n",
    "      group_by(fecha_semana,grupo_edad) %>%\n",
    "      summarise(media_semanal = mean (total), # hacemos la media por semana\n",
    "                # agregamos por edad y sexo\n",
    "                .groups =\"drop\") %>% \n",
    "      ungroup ()"
   ]
  },
  {
   "cell_type": "markdown",
   "metadata": {},
   "source": [
    "#### Visualización 1"
   ]
  },
  {
   "cell_type": "code",
   "execution_count": 244,
   "metadata": {
    "vscode": {
     "languageId": "r"
    }
   },
   "outputs": [
    {
     "data": {
      "text/html": [
       "<table class=\"dataframe\">\n",
       "<caption>A tibble: 1044 × 3</caption>\n",
       "<thead>\n",
       "\t<tr><th scope=col>fecha_semana</th><th scope=col>grupo_edad</th><th scope=col>media_semanal</th></tr>\n",
       "\t<tr><th scope=col>&lt;dttm&gt;</th><th scope=col>&lt;chr&gt;</th><th scope=col>&lt;dbl&gt;</th></tr>\n",
       "</thead>\n",
       "<tbody>\n",
       "\t<tr><td>2019-12-29</td><td>0-9  </td><td>0.2500000</td></tr>\n",
       "\t<tr><td>2019-12-29</td><td>10-19</td><td>0.0000000</td></tr>\n",
       "\t<tr><td>2019-12-29</td><td>20-29</td><td>0.2500000</td></tr>\n",
       "\t<tr><td>2019-12-29</td><td>30-39</td><td>0.5000000</td></tr>\n",
       "\t<tr><td>2019-12-29</td><td>40-49</td><td>0.2500000</td></tr>\n",
       "\t<tr><td>2019-12-29</td><td>50-59</td><td>2.7500000</td></tr>\n",
       "\t<tr><td>2019-12-29</td><td>60-69</td><td>5.2500000</td></tr>\n",
       "\t<tr><td>2019-12-29</td><td>70-79</td><td>5.2500000</td></tr>\n",
       "\t<tr><td>2019-12-29</td><td>80+  </td><td>9.5000000</td></tr>\n",
       "\t<tr><td>2020-01-05</td><td>0-9  </td><td>0.0000000</td></tr>\n",
       "\t<tr><td>2020-01-05</td><td>10-19</td><td>0.0000000</td></tr>\n",
       "\t<tr><td>2020-01-05</td><td>20-29</td><td>0.1428571</td></tr>\n",
       "\t<tr><td>2020-01-05</td><td>30-39</td><td>0.1428571</td></tr>\n",
       "\t<tr><td>2020-01-05</td><td>40-49</td><td>0.1428571</td></tr>\n",
       "\t<tr><td>2020-01-05</td><td>50-59</td><td>0.4285714</td></tr>\n",
       "\t<tr><td>2020-01-05</td><td>60-69</td><td>1.0000000</td></tr>\n",
       "\t<tr><td>2020-01-05</td><td>70-79</td><td>1.8571429</td></tr>\n",
       "\t<tr><td>2020-01-05</td><td>80+  </td><td>2.1428571</td></tr>\n",
       "\t<tr><td>2020-01-12</td><td>0-9  </td><td>0.0000000</td></tr>\n",
       "\t<tr><td>2020-01-12</td><td>10-19</td><td>0.0000000</td></tr>\n",
       "\t<tr><td>2020-01-12</td><td>20-29</td><td>0.0000000</td></tr>\n",
       "\t<tr><td>2020-01-12</td><td>30-39</td><td>0.2857143</td></tr>\n",
       "\t<tr><td>2020-01-12</td><td>40-49</td><td>0.4285714</td></tr>\n",
       "\t<tr><td>2020-01-12</td><td>50-59</td><td>0.7142857</td></tr>\n",
       "\t<tr><td>2020-01-12</td><td>60-69</td><td>2.1428571</td></tr>\n",
       "\t<tr><td>2020-01-12</td><td>70-79</td><td>1.4285714</td></tr>\n",
       "\t<tr><td>2020-01-12</td><td>80+  </td><td>1.7142857</td></tr>\n",
       "\t<tr><td>2020-01-19</td><td>0-9  </td><td>0.0000000</td></tr>\n",
       "\t<tr><td>2020-01-19</td><td>10-19</td><td>0.1428571</td></tr>\n",
       "\t<tr><td>2020-01-19</td><td>20-29</td><td>0.0000000</td></tr>\n",
       "\t<tr><td>...</td><td>...</td><td>...</td></tr>\n",
       "\t<tr><td>2022-02-20</td><td>60-69</td><td> 48.142857</td></tr>\n",
       "\t<tr><td>2022-02-20</td><td>70-79</td><td> 71.714286</td></tr>\n",
       "\t<tr><td>2022-02-20</td><td>80+  </td><td>135.571429</td></tr>\n",
       "\t<tr><td>2022-02-27</td><td>0-9  </td><td> 11.714286</td></tr>\n",
       "\t<tr><td>2022-02-27</td><td>10-19</td><td>  8.428571</td></tr>\n",
       "\t<tr><td>2022-02-27</td><td>20-29</td><td> 13.285714</td></tr>\n",
       "\t<tr><td>2022-02-27</td><td>30-39</td><td> 15.142857</td></tr>\n",
       "\t<tr><td>2022-02-27</td><td>40-49</td><td> 15.142857</td></tr>\n",
       "\t<tr><td>2022-02-27</td><td>50-59</td><td> 26.857143</td></tr>\n",
       "\t<tr><td>2022-02-27</td><td>60-69</td><td> 39.571429</td></tr>\n",
       "\t<tr><td>2022-02-27</td><td>70-79</td><td> 54.428571</td></tr>\n",
       "\t<tr><td>2022-02-27</td><td>80+  </td><td>124.857143</td></tr>\n",
       "\t<tr><td>2022-03-06</td><td>0-9  </td><td> 13.428571</td></tr>\n",
       "\t<tr><td>2022-03-06</td><td>10-19</td><td>  9.000000</td></tr>\n",
       "\t<tr><td>2022-03-06</td><td>20-29</td><td> 10.714286</td></tr>\n",
       "\t<tr><td>2022-03-06</td><td>30-39</td><td> 15.571429</td></tr>\n",
       "\t<tr><td>2022-03-06</td><td>40-49</td><td> 15.571429</td></tr>\n",
       "\t<tr><td>2022-03-06</td><td>50-59</td><td> 22.571429</td></tr>\n",
       "\t<tr><td>2022-03-06</td><td>60-69</td><td> 35.857143</td></tr>\n",
       "\t<tr><td>2022-03-06</td><td>70-79</td><td> 53.428571</td></tr>\n",
       "\t<tr><td>2022-03-06</td><td>80+  </td><td>112.857143</td></tr>\n",
       "\t<tr><td>2022-03-13</td><td>0-9  </td><td> 10.500000</td></tr>\n",
       "\t<tr><td>2022-03-13</td><td>10-19</td><td>  8.000000</td></tr>\n",
       "\t<tr><td>2022-03-13</td><td>20-29</td><td> 13.500000</td></tr>\n",
       "\t<tr><td>2022-03-13</td><td>30-39</td><td> 14.500000</td></tr>\n",
       "\t<tr><td>2022-03-13</td><td>40-49</td><td> 13.500000</td></tr>\n",
       "\t<tr><td>2022-03-13</td><td>50-59</td><td> 25.000000</td></tr>\n",
       "\t<tr><td>2022-03-13</td><td>60-69</td><td> 37.500000</td></tr>\n",
       "\t<tr><td>2022-03-13</td><td>70-79</td><td> 56.500000</td></tr>\n",
       "\t<tr><td>2022-03-13</td><td>80+  </td><td>110.000000</td></tr>\n",
       "</tbody>\n",
       "</table>\n"
      ],
      "text/latex": [
       "A tibble: 1044 × 3\n",
       "\\begin{tabular}{lll}\n",
       " fecha\\_semana & grupo\\_edad & media\\_semanal\\\\\n",
       " <dttm> & <chr> & <dbl>\\\\\n",
       "\\hline\n",
       "\t 2019-12-29 & 0-9   & 0.2500000\\\\\n",
       "\t 2019-12-29 & 10-19 & 0.0000000\\\\\n",
       "\t 2019-12-29 & 20-29 & 0.2500000\\\\\n",
       "\t 2019-12-29 & 30-39 & 0.5000000\\\\\n",
       "\t 2019-12-29 & 40-49 & 0.2500000\\\\\n",
       "\t 2019-12-29 & 50-59 & 2.7500000\\\\\n",
       "\t 2019-12-29 & 60-69 & 5.2500000\\\\\n",
       "\t 2019-12-29 & 70-79 & 5.2500000\\\\\n",
       "\t 2019-12-29 & 80+   & 9.5000000\\\\\n",
       "\t 2020-01-05 & 0-9   & 0.0000000\\\\\n",
       "\t 2020-01-05 & 10-19 & 0.0000000\\\\\n",
       "\t 2020-01-05 & 20-29 & 0.1428571\\\\\n",
       "\t 2020-01-05 & 30-39 & 0.1428571\\\\\n",
       "\t 2020-01-05 & 40-49 & 0.1428571\\\\\n",
       "\t 2020-01-05 & 50-59 & 0.4285714\\\\\n",
       "\t 2020-01-05 & 60-69 & 1.0000000\\\\\n",
       "\t 2020-01-05 & 70-79 & 1.8571429\\\\\n",
       "\t 2020-01-05 & 80+   & 2.1428571\\\\\n",
       "\t 2020-01-12 & 0-9   & 0.0000000\\\\\n",
       "\t 2020-01-12 & 10-19 & 0.0000000\\\\\n",
       "\t 2020-01-12 & 20-29 & 0.0000000\\\\\n",
       "\t 2020-01-12 & 30-39 & 0.2857143\\\\\n",
       "\t 2020-01-12 & 40-49 & 0.4285714\\\\\n",
       "\t 2020-01-12 & 50-59 & 0.7142857\\\\\n",
       "\t 2020-01-12 & 60-69 & 2.1428571\\\\\n",
       "\t 2020-01-12 & 70-79 & 1.4285714\\\\\n",
       "\t 2020-01-12 & 80+   & 1.7142857\\\\\n",
       "\t 2020-01-19 & 0-9   & 0.0000000\\\\\n",
       "\t 2020-01-19 & 10-19 & 0.1428571\\\\\n",
       "\t 2020-01-19 & 20-29 & 0.0000000\\\\\n",
       "\t ... & ... & ...\\\\\n",
       "\t 2022-02-20 & 60-69 &  48.142857\\\\\n",
       "\t 2022-02-20 & 70-79 &  71.714286\\\\\n",
       "\t 2022-02-20 & 80+   & 135.571429\\\\\n",
       "\t 2022-02-27 & 0-9   &  11.714286\\\\\n",
       "\t 2022-02-27 & 10-19 &   8.428571\\\\\n",
       "\t 2022-02-27 & 20-29 &  13.285714\\\\\n",
       "\t 2022-02-27 & 30-39 &  15.142857\\\\\n",
       "\t 2022-02-27 & 40-49 &  15.142857\\\\\n",
       "\t 2022-02-27 & 50-59 &  26.857143\\\\\n",
       "\t 2022-02-27 & 60-69 &  39.571429\\\\\n",
       "\t 2022-02-27 & 70-79 &  54.428571\\\\\n",
       "\t 2022-02-27 & 80+   & 124.857143\\\\\n",
       "\t 2022-03-06 & 0-9   &  13.428571\\\\\n",
       "\t 2022-03-06 & 10-19 &   9.000000\\\\\n",
       "\t 2022-03-06 & 20-29 &  10.714286\\\\\n",
       "\t 2022-03-06 & 30-39 &  15.571429\\\\\n",
       "\t 2022-03-06 & 40-49 &  15.571429\\\\\n",
       "\t 2022-03-06 & 50-59 &  22.571429\\\\\n",
       "\t 2022-03-06 & 60-69 &  35.857143\\\\\n",
       "\t 2022-03-06 & 70-79 &  53.428571\\\\\n",
       "\t 2022-03-06 & 80+   & 112.857143\\\\\n",
       "\t 2022-03-13 & 0-9   &  10.500000\\\\\n",
       "\t 2022-03-13 & 10-19 &   8.000000\\\\\n",
       "\t 2022-03-13 & 20-29 &  13.500000\\\\\n",
       "\t 2022-03-13 & 30-39 &  14.500000\\\\\n",
       "\t 2022-03-13 & 40-49 &  13.500000\\\\\n",
       "\t 2022-03-13 & 50-59 &  25.000000\\\\\n",
       "\t 2022-03-13 & 60-69 &  37.500000\\\\\n",
       "\t 2022-03-13 & 70-79 &  56.500000\\\\\n",
       "\t 2022-03-13 & 80+   & 110.000000\\\\\n",
       "\\end{tabular}\n"
      ],
      "text/markdown": [
       "\n",
       "A tibble: 1044 × 3\n",
       "\n",
       "| fecha_semana &lt;dttm&gt; | grupo_edad &lt;chr&gt; | media_semanal &lt;dbl&gt; |\n",
       "|---|---|---|\n",
       "| 2019-12-29 | 0-9   | 0.2500000 |\n",
       "| 2019-12-29 | 10-19 | 0.0000000 |\n",
       "| 2019-12-29 | 20-29 | 0.2500000 |\n",
       "| 2019-12-29 | 30-39 | 0.5000000 |\n",
       "| 2019-12-29 | 40-49 | 0.2500000 |\n",
       "| 2019-12-29 | 50-59 | 2.7500000 |\n",
       "| 2019-12-29 | 60-69 | 5.2500000 |\n",
       "| 2019-12-29 | 70-79 | 5.2500000 |\n",
       "| 2019-12-29 | 80+   | 9.5000000 |\n",
       "| 2020-01-05 | 0-9   | 0.0000000 |\n",
       "| 2020-01-05 | 10-19 | 0.0000000 |\n",
       "| 2020-01-05 | 20-29 | 0.1428571 |\n",
       "| 2020-01-05 | 30-39 | 0.1428571 |\n",
       "| 2020-01-05 | 40-49 | 0.1428571 |\n",
       "| 2020-01-05 | 50-59 | 0.4285714 |\n",
       "| 2020-01-05 | 60-69 | 1.0000000 |\n",
       "| 2020-01-05 | 70-79 | 1.8571429 |\n",
       "| 2020-01-05 | 80+   | 2.1428571 |\n",
       "| 2020-01-12 | 0-9   | 0.0000000 |\n",
       "| 2020-01-12 | 10-19 | 0.0000000 |\n",
       "| 2020-01-12 | 20-29 | 0.0000000 |\n",
       "| 2020-01-12 | 30-39 | 0.2857143 |\n",
       "| 2020-01-12 | 40-49 | 0.4285714 |\n",
       "| 2020-01-12 | 50-59 | 0.7142857 |\n",
       "| 2020-01-12 | 60-69 | 2.1428571 |\n",
       "| 2020-01-12 | 70-79 | 1.4285714 |\n",
       "| 2020-01-12 | 80+   | 1.7142857 |\n",
       "| 2020-01-19 | 0-9   | 0.0000000 |\n",
       "| 2020-01-19 | 10-19 | 0.1428571 |\n",
       "| 2020-01-19 | 20-29 | 0.0000000 |\n",
       "| ... | ... | ... |\n",
       "| 2022-02-20 | 60-69 |  48.142857 |\n",
       "| 2022-02-20 | 70-79 |  71.714286 |\n",
       "| 2022-02-20 | 80+   | 135.571429 |\n",
       "| 2022-02-27 | 0-9   |  11.714286 |\n",
       "| 2022-02-27 | 10-19 |   8.428571 |\n",
       "| 2022-02-27 | 20-29 |  13.285714 |\n",
       "| 2022-02-27 | 30-39 |  15.142857 |\n",
       "| 2022-02-27 | 40-49 |  15.142857 |\n",
       "| 2022-02-27 | 50-59 |  26.857143 |\n",
       "| 2022-02-27 | 60-69 |  39.571429 |\n",
       "| 2022-02-27 | 70-79 |  54.428571 |\n",
       "| 2022-02-27 | 80+   | 124.857143 |\n",
       "| 2022-03-06 | 0-9   |  13.428571 |\n",
       "| 2022-03-06 | 10-19 |   9.000000 |\n",
       "| 2022-03-06 | 20-29 |  10.714286 |\n",
       "| 2022-03-06 | 30-39 |  15.571429 |\n",
       "| 2022-03-06 | 40-49 |  15.571429 |\n",
       "| 2022-03-06 | 50-59 |  22.571429 |\n",
       "| 2022-03-06 | 60-69 |  35.857143 |\n",
       "| 2022-03-06 | 70-79 |  53.428571 |\n",
       "| 2022-03-06 | 80+   | 112.857143 |\n",
       "| 2022-03-13 | 0-9   |  10.500000 |\n",
       "| 2022-03-13 | 10-19 |   8.000000 |\n",
       "| 2022-03-13 | 20-29 |  13.500000 |\n",
       "| 2022-03-13 | 30-39 |  14.500000 |\n",
       "| 2022-03-13 | 40-49 |  13.500000 |\n",
       "| 2022-03-13 | 50-59 |  25.000000 |\n",
       "| 2022-03-13 | 60-69 |  37.500000 |\n",
       "| 2022-03-13 | 70-79 |  56.500000 |\n",
       "| 2022-03-13 | 80+   | 110.000000 |\n",
       "\n"
      ],
      "text/plain": [
       "     fecha_semana grupo_edad media_semanal\n",
       "1    2019-12-29   0-9        0.2500000    \n",
       "2    2019-12-29   10-19      0.0000000    \n",
       "3    2019-12-29   20-29      0.2500000    \n",
       "4    2019-12-29   30-39      0.5000000    \n",
       "5    2019-12-29   40-49      0.2500000    \n",
       "6    2019-12-29   50-59      2.7500000    \n",
       "7    2019-12-29   60-69      5.2500000    \n",
       "8    2019-12-29   70-79      5.2500000    \n",
       "9    2019-12-29   80+        9.5000000    \n",
       "10   2020-01-05   0-9        0.0000000    \n",
       "11   2020-01-05   10-19      0.0000000    \n",
       "12   2020-01-05   20-29      0.1428571    \n",
       "13   2020-01-05   30-39      0.1428571    \n",
       "14   2020-01-05   40-49      0.1428571    \n",
       "15   2020-01-05   50-59      0.4285714    \n",
       "16   2020-01-05   60-69      1.0000000    \n",
       "17   2020-01-05   70-79      1.8571429    \n",
       "18   2020-01-05   80+        2.1428571    \n",
       "19   2020-01-12   0-9        0.0000000    \n",
       "20   2020-01-12   10-19      0.0000000    \n",
       "21   2020-01-12   20-29      0.0000000    \n",
       "22   2020-01-12   30-39      0.2857143    \n",
       "23   2020-01-12   40-49      0.4285714    \n",
       "24   2020-01-12   50-59      0.7142857    \n",
       "25   2020-01-12   60-69      2.1428571    \n",
       "26   2020-01-12   70-79      1.4285714    \n",
       "27   2020-01-12   80+        1.7142857    \n",
       "28   2020-01-19   0-9        0.0000000    \n",
       "29   2020-01-19   10-19      0.1428571    \n",
       "30   2020-01-19   20-29      0.0000000    \n",
       "...  ...          ...        ...          \n",
       "1015 2022-02-20   60-69       48.142857   \n",
       "1016 2022-02-20   70-79       71.714286   \n",
       "1017 2022-02-20   80+        135.571429   \n",
       "1018 2022-02-27   0-9         11.714286   \n",
       "1019 2022-02-27   10-19        8.428571   \n",
       "1020 2022-02-27   20-29       13.285714   \n",
       "1021 2022-02-27   30-39       15.142857   \n",
       "1022 2022-02-27   40-49       15.142857   \n",
       "1023 2022-02-27   50-59       26.857143   \n",
       "1024 2022-02-27   60-69       39.571429   \n",
       "1025 2022-02-27   70-79       54.428571   \n",
       "1026 2022-02-27   80+        124.857143   \n",
       "1027 2022-03-06   0-9         13.428571   \n",
       "1028 2022-03-06   10-19        9.000000   \n",
       "1029 2022-03-06   20-29       10.714286   \n",
       "1030 2022-03-06   30-39       15.571429   \n",
       "1031 2022-03-06   40-49       15.571429   \n",
       "1032 2022-03-06   50-59       22.571429   \n",
       "1033 2022-03-06   60-69       35.857143   \n",
       "1034 2022-03-06   70-79       53.428571   \n",
       "1035 2022-03-06   80+        112.857143   \n",
       "1036 2022-03-13   0-9         10.500000   \n",
       "1037 2022-03-13   10-19        8.000000   \n",
       "1038 2022-03-13   20-29       13.500000   \n",
       "1039 2022-03-13   30-39       14.500000   \n",
       "1040 2022-03-13   40-49       13.500000   \n",
       "1041 2022-03-13   50-59       25.000000   \n",
       "1042 2022-03-13   60-69       37.500000   \n",
       "1043 2022-03-13   70-79       56.500000   \n",
       "1044 2022-03-13   80+        110.000000   "
      ]
     },
     "metadata": {},
     "output_type": "display_data"
    }
   ],
   "source": [
    "df2"
   ]
  },
  {
   "cell_type": "markdown",
   "metadata": {},
   "source": [
    "### Variación de la hospitalización  entre el pico de la primera ola y el de la sexta por edad\n",
    "\n",
    "\n",
    "Generar dos vistas diferentes\n",
    "\n",
    "- Pico primera ola: 2020-03-24\n",
    "- Pico sexta ola: 2022-01-13"
   ]
  },
  {
   "cell_type": "code",
   "execution_count": null,
   "metadata": {
    "vscode": {
     "languageId": "r"
    }
   },
   "outputs": [],
   "source": [
    "#Ayuda de datos\n",
    "\n",
    "\n",
    "#datos a lo largo\n",
    "\n",
    "df3 <- covid_provincias_poblacion %>%\n",
    "       filter (fecha == \"2020-03-24\" |\n",
    "               fecha == \"2022-01-13\") %>%\n",
    "       mutate (fecha = as.character(fecha ))%>% # hacemos que la fecha sea un valor discreto\n",
    "       group_by(fecha,grupo_edad) %>%\n",
    "       summarise(total = sum (num_hosp), # agregamos por provincia y sexo\n",
    "                .groups =\"drop\") \n",
    "  \n",
    "  \n",
    "\n",
    "#datos a lo ancho \n",
    "  \n",
    "df4 <- df3 %>% \n",
    "      pivot_wider (names_from = fecha,values_from = total) "
   ]
  },
  {
   "cell_type": "markdown",
   "metadata": {},
   "source": [
    "#### Visualización 1"
   ]
  },
  {
   "cell_type": "code",
   "execution_count": null,
   "metadata": {
    "vscode": {
     "languageId": "r"
    }
   },
   "outputs": [],
   "source": []
  },
  {
   "cell_type": "markdown",
   "metadata": {},
   "source": [
    "#### Visualización 2"
   ]
  },
  {
   "cell_type": "code",
   "execution_count": null,
   "metadata": {
    "vscode": {
     "languageId": "r"
    }
   },
   "outputs": [],
   "source": []
  },
  {
   "cell_type": "markdown",
   "metadata": {},
   "source": [
    "### Distribución de la hospitalización del grupo de mayores de 50 años por género"
   ]
  },
  {
   "cell_type": "markdown",
   "metadata": {},
   "source": [
    "#### Visualización 1\n",
    "\n",
    "\n",
    "- Dibujar un boxplot con la distribución de la hospitalización por edades mayores  de 50\n",
    "- Compararlo por sexo"
   ]
  },
  {
   "cell_type": "code",
   "execution_count": null,
   "metadata": {
    "vscode": {
     "languageId": "r"
    }
   },
   "outputs": [],
   "source": [
    "#Ayuda de datos\n",
    "\n",
    "\n",
    "df5 <- covid_provincias_poblacion %>%\n",
    "       filter (grupo_edad == \"50-59\" |\n",
    "               grupo_edad == \"60-69\" |\n",
    "               grupo_edad == \"70-79\" |  \n",
    "               grupo_edad == \"80+\") %>% \n",
    "       group_by(fecha,grupo_edad,sexo) %>%\n",
    "       summarise(total = sum (num_hosp), # agregamos por provincia y sexo\n",
    "                .groups =\"drop\") "
   ]
  },
  {
   "cell_type": "code",
   "execution_count": null,
   "metadata": {
    "vscode": {
     "languageId": "r"
    }
   },
   "outputs": [],
   "source": []
  },
  {
   "cell_type": "markdown",
   "metadata": {},
   "source": [
    "### Pirámide de edad de hospitalizaciones por sexo"
   ]
  },
  {
   "cell_type": "markdown",
   "metadata": {},
   "source": [
    "#### Visualización 1\n",
    "\n",
    "- Dibujar una pirámide de edad de hospitalizaciones  y colorearla por sexo"
   ]
  },
  {
   "cell_type": "code",
   "execution_count": null,
   "metadata": {
    "vscode": {
     "languageId": "r"
    }
   },
   "outputs": [],
   "source": [
    "#Ayuda de datos\n",
    "\n",
    "df6 <- covid_provincias_poblacion %>%\n",
    "       group_by(grupo_edad,sexo) %>%\n",
    "       summarise(total = sum (num_hosp), # agregamos por provincia y sexo\n",
    "                .groups =\"drop\")  %>%\n",
    "       mutate (separa_sexo = ifelse (sexo == \"H\", total *-1,total))"
   ]
  },
  {
   "cell_type": "code",
   "execution_count": null,
   "metadata": {
    "vscode": {
     "languageId": "r"
    }
   },
   "outputs": [],
   "source": []
  },
  {
   "cell_type": "markdown",
   "metadata": {},
   "source": [
    "### Relación entre hospitalizaciones y fallecimientos entre hombres y mujeres"
   ]
  },
  {
   "cell_type": "markdown",
   "metadata": {},
   "source": [
    "#### Visualización 1\n",
    "\n",
    "- Hacer una gráfica de doble escala, una escala para los hospitalizados y otra para los fallecidos \n",
    "- Compararla por sexo\n",
    "- Marcar las olas"
   ]
  },
  {
   "cell_type": "code",
   "execution_count": null,
   "metadata": {
    "vscode": {
     "languageId": "r"
    }
   },
   "outputs": [],
   "source": [
    "# Ayuda de datos\n",
    "\n",
    "df7 <- covid_provincias_poblacion %>%\n",
    "       group_by(fecha,sexo) %>% # agregamos por provincia y sexo\n",
    "       summarise(total_hosp = sum (num_hosp), \n",
    "                 total_def = sum (num_def),\n",
    "                .groups =\"drop\") "
   ]
  },
  {
   "cell_type": "code",
   "execution_count": null,
   "metadata": {
    "vscode": {
     "languageId": "r"
    }
   },
   "outputs": [],
   "source": []
  },
  {
   "cell_type": "markdown",
   "metadata": {},
   "source": [
    "#### Visualización 2\n",
    "\n",
    "- Hacer una scaterplot conectado con los hospitalizados (eje x) y los fallecidos (eje y) para hombres y mujeres\n",
    "- No incluir etiquetas"
   ]
  },
  {
   "cell_type": "code",
   "execution_count": null,
   "metadata": {
    "vscode": {
     "languageId": "r"
    }
   },
   "outputs": [],
   "source": []
  },
  {
   "cell_type": "markdown",
   "metadata": {},
   "source": [
    "### Mapa de fallecidos \n",
    "\n",
    "Mapa de fallecidos en el día con más defunciones y el mapa con animación de la sexta ola\n",
    "\n",
    "- Los datos de fallecidos hay que convertirlos a tasa para poder comparar las provincias. Usaremos la tasa de fallecidos por 1 millón\n",
    " \n",
    "Recursos espaciales:\n",
    "\n",
    "- Librería mapspain para el mapa de provincias: función esp_get_prov_siane()\n",
    "\n",
    "librerías para dibujar el mapa, a elegir:\n",
    "\n",
    "- ggplot\n",
    "- tmap"
   ]
  },
  {
   "cell_type": "code",
   "execution_count": null,
   "metadata": {
    "vscode": {
     "languageId": "r"
    }
   },
   "outputs": [],
   "source": [
    "# Ayuda de datos\n",
    "\n",
    "# Cálculo del dia con más fallecidos \n",
    "\n",
    "max_valor <-  covid_provincias_poblacion %>%\n",
    "                  group_by (fecha) %>%\n",
    "                  summarise (tot_def  = sum (num_def),\n",
    "                             .groups =\"drop\") %>%\n",
    "                   ungroup () %>%\n",
    "                  top_n(n=1, tot_def) # fila con el valor más ato de defunciones\n",
    "max_fecha_valor <- max_valor$fecha #fecha del valor más alto de fallecidos\n",
    "\n",
    "# Cáculo de defunciones por 1.000.000 de habitantes\n",
    "df8 <- covid_provincias_poblacion %>%\n",
    "       group_by(fecha,provincia) %>%  \n",
    "       summarise(total_def = (sum (num_def)*1000000)/poblacion, # convertimos  a tasa por 1 millon para comparar provincias\n",
    "       .groups =\"drop\") %>%\n",
    "        distinct(fecha,provincia,total_def) %>%\n",
    "        arrange (fecha)"
   ]
  },
  {
   "cell_type": "markdown",
   "metadata": {},
   "source": [
    "#### Mapa de fallecidos del día con el valor más alto de defunciones\n",
    "\n",
    "\n",
    "\n",
    "- Filtrar por fecha del valor más alto de fallecidos\n",
    "- Unir con datos espaciales\n",
    "- Elegir un color que creáis más adecuado\n",
    "- Indicar las unidades\n",
    "- Ajustar tamaños de letra "
   ]
  },
  {
   "cell_type": "code",
   "execution_count": null,
   "metadata": {
    "vscode": {
     "languageId": "r"
    }
   },
   "outputs": [],
   "source": []
  },
  {
   "cell_type": "markdown",
   "metadata": {},
   "source": [
    "#### Mapa con animación de los fallecidos en la sexta ola\n",
    "\n",
    "- Filtrar fechas de sexta ola. Empieza en 2021-12-01\n",
    "- Seleccionar solo los jueves para que no salgan muchos frames ->  filter (wday (fecha )== 5)\n",
    "- Pintar mapa como en el caso anterior\n",
    "- Aplicar animación\n",
    "\n",
    "  - Para ggplot se puede usar la librería gganimate\n",
    "  - para tmap hay que iterar"
   ]
  },
  {
   "cell_type": "code",
   "execution_count": null,
   "metadata": {
    "vscode": {
     "languageId": "r"
    }
   },
   "outputs": [],
   "source": [
    "if (!\"gganimate\" %in% installed.packages()) {install.packages(\"gganimate\")} # Para resaltar líneas\n",
    "if (!\"gifski\" %in% installed.packages()) {install.packages(\"gifski\")}\n",
    "library (gganimate)\n",
    "library(gifski)"
   ]
  }
 ],
 "metadata": {
  "interpreter": {
   "hash": "a6c8cccf23fc189a51b8b2ae4ca3b98de763e12cce4f9033fe8d82721c91cecc"
  },
  "kernelspec": {
   "display_name": "R",
   "language": "R",
   "name": "ir"
  },
  "language_info": {
   "codemirror_mode": "r",
   "file_extension": ".r",
   "mimetype": "text/x-r-source",
   "name": "R",
   "pygments_lexer": "r",
   "version": "4.0.5"
  },
  "orig_nbformat": 4
 },
 "nbformat": 4,
 "nbformat_minor": 2
}
